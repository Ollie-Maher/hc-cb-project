{
  "cells": [
    {
      "cell_type": "code",
      "source": [
        "# prompt: set up my github repository hc-cb-project in colab\n",
        "\n",
        "!git clone https://github.com/Ollie-Maher/hc-cb-project.git\n",
        "\n",
        "# Navigate into the cloned repo\n",
        "%cd hc-cb-project"
      ],
      "metadata": {
        "id": "2KEutE_trF8Z"
      },
      "execution_count": null,
      "outputs": []
    },
    {
      "cell_type": "code",
      "source": [
        "# prompt: install all modules\n",
        "\n",
        "!pip install -r requirements.txt"
      ],
      "metadata": {
        "collapsed": true,
        "id": "ju84llw3sY7Z"
      },
      "execution_count": null,
      "outputs": []
    },
    {
      "cell_type": "code",
      "source": [
        "!python train.py"
      ],
      "metadata": {
        "collapsed": true,
        "id": "9GWz6wAzt-R5"
      },
      "execution_count": null,
      "outputs": []
    }
  ],
  "metadata": {
    "language_info": {
      "name": "python"
    },
    "colab": {
      "provenance": []
    },
    "kernelspec": {
      "name": "python3",
      "display_name": "Python 3"
    }
  },
  "nbformat": 4,
  "nbformat_minor": 0
}