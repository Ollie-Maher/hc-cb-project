{
  "cells": [
    {
      "cell_type": "code",
      "source": [
        "# prompt: set up my github repository hc-cb-project in colab\n",
        "\n",
        "!git clone https://github.com/Ollie-Maher/hc-cb-project.git\n",
        "# Replace username with your actual github username\n",
        "\n",
        "# Now you can navigate into the cloned repo\n",
        "%cd hc-cb-project\n",
        "# and perform git operations\n",
        "# Example:\n",
        "#!git status\n",
        "#!git add .\n",
        "#!git commit -m \"Your commit message\"\n",
        "#!git push origin main # or your branch name\n"
      ],
      "metadata": {
        "id": "2KEutE_trF8Z",
        "outputId": "d726584a-9ef8-4335-a7f6-ee574beda905",
        "colab": {
          "base_uri": "https://localhost:8080/"
        }
      },
      "execution_count": 3,
      "outputs": [
        {
          "output_type": "stream",
          "name": "stdout",
          "text": [
            "Cloning into 'hc-cb-project'...\n",
            "fatal: could not read Username for 'https://github.com': No such device or address\n",
            "[Errno 2] No such file or directory: 'hc-cb-project'\n",
            "/content\n"
          ]
        }
      ]
    },
    {
      "cell_type": "code",
      "source": [
        "# prompt: clone source repository\n",
        "\n",
        "!git clone https://github.com/Ollie-Maher/hc-cb-project\n"
      ],
      "metadata": {
        "id": "TRlO2WRGqeGR",
        "outputId": "1be75ed9-6195-4d73-fe7a-b9dd7c2a49c6",
        "colab": {
          "base_uri": "https://localhost:8080/"
        }
      },
      "execution_count": 1,
      "outputs": [
        {
          "output_type": "stream",
          "name": "stdout",
          "text": [
            "Cloning into 'hc-cb-project'...\n",
            "fatal: could not read Username for 'https://github.com': No such device or address\n"
          ]
        }
      ]
    }
  ],
  "metadata": {
    "language_info": {
      "name": "python"
    },
    "colab": {
      "provenance": []
    },
    "kernelspec": {
      "name": "python3",
      "display_name": "Python 3"
    }
  },
  "nbformat": 4,
  "nbformat_minor": 0
}